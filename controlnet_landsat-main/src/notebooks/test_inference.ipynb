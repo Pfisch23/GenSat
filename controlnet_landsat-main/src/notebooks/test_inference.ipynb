{
 "cells": [
  {
   "cell_type": "code",
   "execution_count": 2,
   "metadata": {},
   "outputs": [],
   "source": [
    "import argparse\n",
    "import logging\n",
    "import math\n",
    "import os\n",
    "import random\n",
    "import shutil\n",
    "from pathlib import Path\n",
    "\n",
    "import accelerate\n",
    "import numpy as np\n",
    "import torch\n",
    "import torch.nn.functional as F\n",
    "import torch.utils.checkpoint\n",
    "import transformers\n",
    "from accelerate import Accelerator\n",
    "from accelerate.logging import get_logger\n",
    "from accelerate.utils import ProjectConfiguration, set_seed\n",
    "from datasets import load_dataset, load_from_disk\n",
    "from huggingface_hub import create_repo, upload_folder\n",
    "from packaging import version\n",
    "from PIL import Image\n",
    "from torchvision import transforms\n",
    "from tqdm.auto import tqdm\n",
    "from transformers import AutoTokenizer, PretrainedConfig\n",
    "\n",
    "import diffusers\n",
    "from diffusers import (\n",
    "    AutoencoderKL,\n",
    "    ControlNetModel,\n",
    "    DDPMScheduler,\n",
    "    StableDiffusionControlNetPipeline,\n",
    "    UNet2DConditionModel,\n",
    "    UniPCMultistepScheduler,\n",
    ")\n",
    "from diffusers.optimization import get_scheduler\n",
    "from diffusers.utils import check_min_version, is_wandb_available\n",
    "from diffusers.utils.import_utils import is_xformers_available\n"
   ]
  },
  {
   "cell_type": "code",
   "execution_count": 9,
   "metadata": {},
   "outputs": [
    {
     "name": "stderr",
     "output_type": "stream",
     "text": [
      "You are using a model of type clip_text_model to instantiate a model of type . This is not supported for all configurations of models and can yield errors.\n",
      "You have disabled the safety checker for <class 'diffusers.pipelines.controlnet.pipeline_controlnet.StableDiffusionControlNetPipeline'> by passing `safety_checker=None`. Ensure that you abide to the conditions of the Stable Diffusion license and do not expose unfiltered results in services or applications open to the public. Both the diffusers team and Hugging Face strongly recommend to keep the safety filter enabled in all public facing circumstances, disabling it only for use-cases that involve analyzing network behavior or auditing its results. For more information, please have a look at https://github.com/huggingface/diffusers/pull/254 .\n"
     ]
    },
    {
     "data": {
      "text/plain": [
       "StableDiffusionControlNetPipeline {\n",
       "  \"_class_name\": \"StableDiffusionControlNetPipeline\",\n",
       "  \"_diffusers_version\": \"0.24.0\",\n",
       "  \"controlnet\": [\n",
       "    \"diffusers\",\n",
       "    \"ControlNetModel\"\n",
       "  ],\n",
       "  \"feature_extractor\": [\n",
       "    null,\n",
       "    null\n",
       "  ],\n",
       "  \"image_encoder\": [\n",
       "    null,\n",
       "    null\n",
       "  ],\n",
       "  \"requires_safety_checker\": true,\n",
       "  \"safety_checker\": [\n",
       "    null,\n",
       "    null\n",
       "  ],\n",
       "  \"scheduler\": [\n",
       "    \"diffusers\",\n",
       "    \"DDPMScheduler\"\n",
       "  ],\n",
       "  \"text_encoder\": [\n",
       "    \"transformers\",\n",
       "    \"CLIPTextModel\"\n",
       "  ],\n",
       "  \"tokenizer\": [\n",
       "    \"transformers\",\n",
       "    \"CLIPTokenizer\"\n",
       "  ],\n",
       "  \"unet\": [\n",
       "    \"diffusers\",\n",
       "    \"UNet2DConditionModel\"\n",
       "  ],\n",
       "  \"vae\": [\n",
       "    \"diffusers\",\n",
       "    \"AutoencoderKL\"\n",
       "  ]\n",
       "}"
      ]
     },
     "execution_count": 9,
     "metadata": {},
     "output_type": "execute_result"
    }
   ],
   "source": [
    "def import_model_class_from_model_name_or_path(pretrained_model_name_or_path: str, revision: str):\n",
    "    text_encoder_config = PretrainedConfig.from_pretrained(\n",
    "        pretrained_model_name_or_path,\n",
    "        subfolder=\"text_encoder\",\n",
    "        revision=revision,\n",
    "    )\n",
    "    model_class = text_encoder_config.architectures[0]\n",
    "\n",
    "    if model_class == \"CLIPTextModel\":\n",
    "        from transformers import CLIPTextModel\n",
    "\n",
    "        return CLIPTextModel\n",
    "    elif model_class == \"RobertaSeriesModelWithTransformation\":\n",
    "        from diffusers.pipelines.alt_diffusion.modeling_roberta_series import RobertaSeriesModelWithTransformation\n",
    "\n",
    "        return RobertaSeriesModelWithTransformation\n",
    "    else:\n",
    "        raise ValueError(f\"{model_class} is not supported.\")\n",
    "    \n",
    "\n",
    "tokenizer = AutoTokenizer.from_pretrained(\n",
    "    \"stabilityai/stable-diffusion-2-1-base\",\n",
    "    subfolder=\"tokenizer\",\n",
    "    revision=None,\n",
    "    use_fast=False,\n",
    ")\n",
    "\n",
    "# import correct text encoder class\n",
    "text_encoder_cls = import_model_class_from_model_name_or_path( \"stabilityai/stable-diffusion-2-1-base\", None)\n",
    "text_encoder = text_encoder_cls.from_pretrained(\n",
    "         \"stabilityai/stable-diffusion-2-1-base\", subfolder=\"text_encoder\", revision=None, variant=None\n",
    "    )\n",
    "# Load scheduler and models\n",
    "noise_scheduler = DDPMScheduler.from_pretrained( \"stabilityai/stable-diffusion-2-1-base\", subfolder=\"scheduler\")\n",
    "text_encoder = text_encoder_cls.from_pretrained(\n",
    "     \"stabilityai/stable-diffusion-2-1-base\", subfolder=\"text_encoder\", revision=None, variant=None\n",
    ")\n",
    "vae = AutoencoderKL.from_pretrained(\n",
    "     \"stabilityai/stable-diffusion-2-1-base\", subfolder=\"vae\", revision=None, variant=None\n",
    ")\n",
    "unet = UNet2DConditionModel.from_pretrained(\n",
    "   \"stabilityai/stable-diffusion-2-1-base\", subfolder=\"unet\", revision=None, variant=None\n",
    ")\n",
    "   \n",
    "controlnet = ControlNetModel.from_pretrained(\"../../controlnet_landsat\")\n",
    "if is_xformers_available():\n",
    "    import xformers\n",
    "\n",
    "    xformers_version = version.parse(xformers.__version__)\n",
    "    if xformers_version == version.parse(\"0.0.16\"):\n",
    "        print(\n",
    "            \"xFormers 0.0.16 cannot be used for training in some GPUs. If you observe problems during training, please update xFormers to at least 0.0.17. See https://huggingface.co/docs/diffusers/main/en/optimization/xformers for more details.\"\n",
    "        )\n",
    "    unet.enable_xformers_memory_efficient_attention()\n",
    "    controlnet.enable_xformers_memory_efficient_attention()\n",
    "pipeline = StableDiffusionControlNetPipeline(vae, text_encoder, tokenizer, unet, controlnet, noise_scheduler, safety_checker=None, feature_extractor=None).to(\"cuda\")\n",
    "pipeline"
   ]
  },
  {
   "cell_type": "code",
   "execution_count": 10,
   "metadata": {},
   "outputs": [],
   "source": [
    "test_dataset = load_from_disk(\"../../data/landsat_large/test\")"
   ]
  },
  {
   "cell_type": "code",
   "execution_count": 17,
   "metadata": {},
   "outputs": [
    {
     "name": "stderr",
     "output_type": "stream",
     "text": [
      "100%|██████████| 20/20 [00:06<00:00,  3.23it/s]\n",
      "100%|██████████| 20/20 [00:06<00:00,  3.26it/s]\n",
      "100%|██████████| 20/20 [00:06<00:00,  3.25it/s]\n"
     ]
    }
   ],
   "source": [
    "generator = torch.Generator(device='cuda').manual_seed(0)\n",
    "\n",
    "save_dir = os.path.join(\"..\",\"..\",\"results\", \"granular\")\n",
    "if not os.path.exists(save_dir):\n",
    "    os.makedirs(save_dir)\n",
    "    \n",
    "for i,data in enumerate(test_dataset):\n",
    "    input = data[\"input\"]\n",
    "    caption = data[\"captions\"]\n",
    "    # Run the pipeline\n",
    "    with torch.autocast(\"cuda\"):\n",
    "        image = pipeline(\n",
    "                        caption, input, num_inference_steps=20, generator=generator\n",
    "                    ).images[0]\n",
    "    # Save the image\n",
    "    image.save(os.path.join(save_dir, str(i) + \".jpg\"))\n",
    "    if i == 2:\n",
    "        break\n"
   ]
  },
  {
   "cell_type": "code",
   "execution_count": 16,
   "metadata": {},
   "outputs": [
    {
     "data": {
      "text/plain": [
       "{'input': <PIL.JpegImagePlugin.JpegImageFile image mode=RGB size=256x256>,\n",
       " 'target': <PIL.JpegImagePlugin.JpegImageFile image mode=RGB size=256x256>,\n",
       " 'captions': 'A satellite image of the earth. The weather is clear.',\n",
       " 'binary_captions': 'A satellite image of the earth. The weather is clear and sunny.',\n",
       " 'cloud_segments': 0,\n",
       " 'snow_segments': 0,\n",
       " 'cloud_segments_binary': 0,\n",
       " 'snow_segments_binary': 0}"
      ]
     },
     "execution_count": 16,
     "metadata": {},
     "output_type": "execute_result"
    }
   ],
   "source": [
    "test_dataset[0]"
   ]
  },
  {
   "cell_type": "code",
   "execution_count": 31,
   "metadata": {},
   "outputs": [
    {
     "data": {
      "image/jpeg": "[encoded data removed]",
      "image/png": "[encoded data removed]",
      "text/plain": [
       "<PIL.JpegImagePlugin.JpegImageFile image mode=RGB size=256x256>"
      ]
     },
     "execution_count": 31,
     "metadata": {},
     "output_type": "execute_result"
    }
   ],
   "source": [
    "first_image"
   ]
  },
  {
   "cell_type": "code",
   "execution_count": 30,
   "metadata": {},
   "outputs": [
    {
     "data": {
      "text/plain": [
       "(<PIL.JpegImagePlugin.JpegImageFile image mode=RGB size=256x256>,\n",
       " 'A satellite image of the earth. The weather is clear.')"
      ]
     },
     "execution_count": 30,
     "metadata": {},
     "output_type": "execute_result"
    }
   ],
   "source": [
    "first_image, "
   ]
  },
  {
   "cell_type": "code",
   "execution_count": null,
   "metadata": {},
   "outputs": [],
   "source": []
  }
 ],
 "metadata": {
  "kernelspec": {
   "display_name": "cn",
   "language": "python",
   "name": "python3"
  },
  "language_info": {
   "codemirror_mode": {
    "name": "ipython",
    "version": 3
   },
   "file_extension": ".py",
   "mimetype": "text/x-python",
   "name": "python",
   "nbconvert_exporter": "python",
   "pygments_lexer": "ipython3",
   "version": "3.9.18"
  }
 },
 "nbformat": 4,
 "nbformat_minor": 2
}
