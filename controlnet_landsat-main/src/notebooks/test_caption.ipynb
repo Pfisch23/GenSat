{
 "cells": [
  {
   "cell_type": "code",
   "execution_count": 1,
   "metadata": {},
   "outputs": [
    {
     "name": "stderr",
     "output_type": "stream",
     "text": [
      "/home/jbk/miniconda3/envs/cn/lib/python3.9/site-packages/tqdm/auto.py:21: TqdmWarning: IProgress not found. Please update jupyter and ipywidgets. See https://ipywidgets.readthedocs.io/en/stable/user_install.html\n",
      "  from .autonotebook import tqdm as notebook_tqdm\n"
     ]
    }
   ],
   "source": [
    "from datasets import Dataset, Image, load_dataset\n",
    "import os\n",
    "from transformers import pipeline\n",
    "import tqdm\n",
    "import numpy as np"
   ]
  },
  {
   "cell_type": "markdown",
   "metadata": {},
   "source": [
    "# Test Blip"
   ]
  },
  {
   "cell_type": "code",
   "execution_count": 3,
   "metadata": {},
   "outputs": [
    {
     "name": "stderr",
     "output_type": "stream",
     "text": [
      "Map:   0%|          | 0/7 [00:00<?, ? examples/s]/home/jbk/miniconda3/envs/cn/lib/python3.9/site-packages/transformers/generation/utils.py:1273: UserWarning: Using the model-agnostic default `max_length` (=20) to control the generation length. We recommend setting `max_new_tokens` to control the maximum length of the generation.\n",
      "  warnings.warn(\n",
      "Map: 100%|██████████| 7/7 [00:05<00:00,  1.19 examples/s]\n",
      "100%|██████████| 7/7 [00:00<00:00, 323.58it/s]"
     ]
    },
    {
     "name": "stdout",
     "output_type": "stream",
     "text": [
      "a view of a lake and a mountain from space\n",
      "a view of a satellite image of a mountain range\n",
      "there is a picture of a snowboarder riding down a snowy hill\n",
      "arafed view of a mountain with a few clouds in the sky\n",
      "a close up of a picture of a snow covered area\n",
      "a view of a large body of water with a cloud in the sky\n",
      "a close up of a satellite image of a rusted area\n"
     ]
    },
    {
     "name": "stderr",
     "output_type": "stream",
     "text": [
      "\n"
     ]
    }
   ],
   "source": [
    "captioner = pipeline(\"image-to-text\",model=\"Salesforce/blip-image-captioning-large\", device=0)\n",
    "def caption_image_data(example):\n",
    "    image = example[\"input\"]\n",
    "    image_caption = captioner(image)[0]['generated_text']\n",
    "    example['image_caption'] = image_caption\n",
    "    return example\n",
    "image_paths = [os.path.join(path, file) for path, subdirs, files in os.walk(\"../../data/samples\") for file in files if file.endswith(\".jpg\")]\n",
    "sample_set = Dataset.from_dict({'input' : image_paths}).cast_column(\"input\", Image())\n",
    "caption_set = sample_set.map(caption_image_data)\n",
    "for example in tqdm.tqdm(caption_set):\n",
    "    print(example['image_caption'])"
   ]
  },
  {
   "cell_type": "markdown",
   "metadata": {},
   "source": [
    "# Extract Bits"
   ]
  },
  {
   "cell_type": "code",
   "execution_count": 20,
   "metadata": {},
   "outputs": [
    {
     "data": {
      "text/plain": [
       "0"
      ]
     },
     "execution_count": 20,
     "metadata": {},
     "output_type": "execute_result"
    }
   ],
   "source": [
    "bit_image = np.load('../../data/samples/tsts.npy')\n",
    "bit_image.shape\n",
    "# Clouds\n",
    "(np.right_shift(bit_image,3)&1).sum()\n",
    "# Snow\n",
    "(np.right_shift(bit_image,5)&1).sum()"
   ]
  },
  {
   "cell_type": "markdown",
   "metadata": {},
   "source": [
    "## Convert Folder into Captions"
   ]
  },
  {
   "cell_type": "code",
   "execution_count": 18,
   "metadata": {},
   "outputs": [
    {
     "data": {
      "text/plain": [
       "131"
      ]
     },
     "execution_count": 18,
     "metadata": {},
     "output_type": "execute_result"
    }
   ],
   "source": [
    "src_dir = '../../data/samples'\n",
    "target_dir = '../../data/captions/'\n",
    "\n",
    "cloud_modifiers = [\"clear\", \"slightly cloudy\", \"cloudy\", \"very cloudy\"]\n",
    "snow_modifiers = [\"\", \" and there is some snow\", \" and it is snowy\", \" and it is very snowy\"]\n",
    "caption_prompt = \"A satellite image of the earth. The weather is {cloud}{snow}.\"\n",
    "captions = []\n",
    "\n",
    "\n",
    "def get_cloud_segment(bit_image):\n",
    "    cloud_pixels = (np.right_shift(bit_image,3)&1).sum()\n",
    "    cloud_ratio = cloud_pixels / bit_image.size\n",
    "    if cloud_ratio < 0.1:\n",
    "        return 0\n",
    "    elif cloud_ratio < 0.3:\n",
    "        return 1\n",
    "    elif cloud_ratio < 0.5:\n",
    "        return 2\n",
    "    else:\n",
    "        return 3\n",
    "\n",
    "def get_snow_segment(bit_image):\n",
    "    snow_pixels = (np.right_shift(bit_image,5)&1).sum()\n",
    "    snow_ratio = snow_pixels / bit_image.size\n",
    "    if snow_ratio < 0.05:\n",
    "        return 0\n",
    "    elif snow_ratio < 0.1:\n",
    "        return 1\n",
    "    elif snow_ratio < 0.3:\n",
    "        return 2\n",
    "    else:\n",
    "        return 3\n",
    "\n",
    "for path, subdirs, files in os.walk(src_dir):\n",
    "    for name in files:\n",
    "        cloud_mod, snow_mod = 0,0\n",
    "        if name.endswith(\".npy\"):\n",
    "            bit_image = np.load(os.path.join(path, name))\n",
    "            cloud_mod = get_cloud_segment(bit_image)\n",
    "            snow_mod = get_snow_segment(bit_image)\n",
    "            caption = caption_prompt.format(cloud=cloud_modifiers[cloud_mod], snow=snow_modifiers[snow_mod])\n",
    "            captions.append(caption)\n",
    "\n",
    "with open(os.path.join(target_dir, 'captions.txt'), 'w') as f:\n",
    "    for caption in captions:\n",
    "        f.write(caption + '\\n')\n",
    "\n",
    "            \n"
   ]
  },
  {
   "cell_type": "code",
   "execution_count": null,
   "metadata": {},
   "outputs": [],
   "source": []
  }
 ],
 "metadata": {
  "kernelspec": {
   "display_name": "cn",
   "language": "python",
   "name": "python3"
  },
  "language_info": {
   "codemirror_mode": {
    "name": "ipython",
    "version": 3
   },
   "file_extension": ".py",
   "mimetype": "text/x-python",
   "name": "python",
   "nbconvert_exporter": "python",
   "pygments_lexer": "ipython3",
   "version": "3.9.18"
  }
 },
 "nbformat": 4,
 "nbformat_minor": 2
}
